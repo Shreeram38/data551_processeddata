{
 "cells": [
  {
   "cell_type": "code",
   "execution_count": 6,
   "metadata": {},
   "outputs": [],
   "source": [
    "import pandas as pd\n",
    "import matplotlib.pyplot as plt"
   ]
  },
  {
   "cell_type": "code",
   "execution_count": 7,
   "metadata": {},
   "outputs": [],
   "source": [
    "data_legend=pd.read_csv('AidDataCoreFull_ResearchRelease_Level1_v3.1.csv')"
   ]
  },
  {
   "cell_type": "code",
   "execution_count": 5,
   "metadata": {},
   "outputs": [],
   "source": [
    "#preprocessing the data.\n",
    "data_legend.dropna(axis=0,subset=['donor_iso'])\n",
    "data_new1=pd.DataFrame(data=data_legend, columns=['year','donor_iso','commitment_amount_usd_constant','recipient_iso']).groupby(['year','donor_iso'],as_index=False)['commitment_amount_usd_constant'].sum()\n",
    "data_new2=pd.DataFrame(data=data_legend, columns=['year','recipient_iso','commitment_amount_usd_constant','donor_iso']).groupby(['year','recipient_iso'],as_index=False)['commitment_amount_usd_constant'].sum()\n",
    "data_new1.rename({'donor_iso': 'country','commitment_amount_usd_constant':'donated_amount'}, axis=1, inplace=True)\n",
    "data_new2.rename({'recipient_iso': 'country','commitment_amount_usd_constant':'received_amount'}, axis=1, inplace=True)\n",
    "data_new2[data_new2.year != 9999]\n",
    "newfile=pd.merge(data_new1,data_new2,on=['country','year'],how='left')\n",
    "newfile.to_csv('newfile.csv')"
   ]
  },
  {
   "cell_type": "markdown",
   "metadata": {},
   "source": []
  },
  {
   "cell_type": "markdown",
   "metadata": {},
   "source": []
  }
 ],
 "metadata": {
  "kernelspec": {
   "display_name": "Python 3",
   "language": "python",
   "name": "python3"
  },
  "language_info": {
   "codemirror_mode": {
    "name": "ipython",
    "version": 3
   },
   "file_extension": ".py",
   "mimetype": "text/x-python",
   "name": "python",
   "nbconvert_exporter": "python",
   "pygments_lexer": "ipython3",
   "version": "3.7.3"
  }
 },
 "nbformat": 4,
 "nbformat_minor": 2
}
